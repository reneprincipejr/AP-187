{
 "cells": [
  {
   "cell_type": "code",
   "execution_count": 1,
   "metadata": {
    "ExecuteTime": {
     "end_time": "2019-09-23T10:50:29.769649Z",
     "start_time": "2019-09-23T10:50:11.410529Z"
    }
   },
   "outputs": [],
   "source": [
    "import numpy as np\n",
    "import matplotlib.pyplot as plt\n",
    "from scipy.signal import savgol_filter\n",
    "%matplotlib inline"
   ]
  },
  {
   "cell_type": "code",
   "execution_count": 2,
   "metadata": {
    "ExecuteTime": {
     "end_time": "2019-09-23T10:50:30.080215Z",
     "start_time": "2019-09-23T10:50:29.804323Z"
    }
   },
   "outputs": [],
   "source": [
    "wavelength = np.arange(400,700,0.5)\n",
    "\n",
    "'Loading Macbeth dataset'\n",
    "\n",
    "macbeth = np.loadtxt(\"macbeth.txt\")\n",
    "macbeth_wav, macbeth_ref =  macbeth[4:64,0], macbeth[4:64,1:]\n",
    "macbeth_r = np.zeros(shape=[len(wavelength),24])\n",
    "\n",
    "\n",
    "for i in range(1,25):\n",
    "    macbeth_r[:,i-1] = np.interp(wavelength, macbeth_wav, macbeth_ref[:,i-1])"
   ]
  },
  {
   "cell_type": "code",
   "execution_count": 3,
   "metadata": {
    "ExecuteTime": {
     "end_time": "2019-09-23T10:50:30.562806Z",
     "start_time": "2019-09-23T10:50:30.548209Z"
    }
   },
   "outputs": [],
   "source": [
    "std_source = np.loadtxt(\"standard_illuminants.txt\")\n",
    "std_wav, std_s = std_source[:,0], std_source[:,1:]\n",
    "\n",
    "source = np.zeros(shape=[len(wavelength),6])\n",
    "\n",
    "for i in range(6):\n",
    "    s = np.interp(wavelength, std_wav, std_s[:,i])\n",
    "    source[:,i] = s/s.max()"
   ]
  },
  {
   "cell_type": "code",
   "execution_count": 4,
   "metadata": {
    "ExecuteTime": {
     "end_time": "2019-09-23T10:50:30.762432Z",
     "start_time": "2019-09-23T10:50:30.610449Z"
    }
   },
   "outputs": [],
   "source": [
    "cie = np.loadtxt(\"CIE1964.txt\")\n",
    "wav, x_, y_, z_ = cie[:,0], cie[:,1], cie[:,2], cie[:,3]\n",
    "\n",
    "x_ = np.interp(wavelength, wav, x_)\n",
    "x_ = x_/x_.max()\n",
    "\n",
    "y_ = np.interp(wavelength, wav, y_)\n",
    "y_ = x_/x_.max()\n",
    "\n",
    "z_ = np.interp(wavelength, wav, z_)\n",
    "z_ = z_/z_.max()"
   ]
  },
  {
   "cell_type": "code",
   "execution_count": 5,
   "metadata": {
    "ExecuteTime": {
     "end_time": "2019-09-23T10:50:30.960885Z",
     "start_time": "2019-09-23T10:50:30.946563Z"
    }
   },
   "outputs": [],
   "source": [
    "flourescent = np.loadtxt(\"flourescent.txt\")\n",
    "\n",
    "f = np.interp(wavelength, flourescent[:,0], flourescent[:,1])\n",
    "f = f/f.max()"
   ]
  },
  {
   "cell_type": "code",
   "execution_count": null,
   "metadata": {
    "ExecuteTime": {
     "end_time": "2019-09-23T05:27:47.816975Z",
     "start_time": "2019-09-23T05:27:47.718240Z"
    }
   },
   "outputs": [],
   "source": [
    "def f(t):\n",
    "    if t > (6/29)**3:\n",
    "        return t**(1/3)\n",
    "    else:\n",
    "        return \n"
   ]
  },
  {
   "cell_type": "code",
   "execution_count": 6,
   "metadata": {
    "ExecuteTime": {
     "end_time": "2019-09-23T10:50:31.143582Z",
     "start_time": "2019-09-23T10:50:31.065221Z"
    }
   },
   "outputs": [],
   "source": [
    "def Color_Simulation(s):\n",
    "    \n",
    "        \n",
    "    X_n = np.trapz(source[:,s]*x_)\n",
    "    Y_n = np.trapz(source[:,s]*y_)\n",
    "    Z_n = np.trapz(source[:,s]*z_)\n",
    "\n",
    "    for i in range(0,24):\n",
    "        X = np.trapz(macbeth_r[:,i]*source[:,s]*x_)\n",
    "        Y = np.trapz(macbeth_r[:,i]*source[:,s]*y_)\n",
    "        Z = np.trapz(macbeth_r[:,i]*source[:,s]*x_)\n",
    "        \n",
    "        \n",
    "        #print(X,Y,Z)\n",
    "    #print(X_n, Y_n,Z_n)"
   ]
  },
  {
   "cell_type": "code",
   "execution_count": 7,
   "metadata": {
    "ExecuteTime": {
     "end_time": "2019-09-23T10:50:31.360978Z",
     "start_time": "2019-09-23T10:50:31.250443Z"
    }
   },
   "outputs": [
    {
     "name": "stdout",
     "output_type": "stream",
     "text": [
      "18.521965326408264 18.521965326408264 18.521965326408264\n",
      "64.5596244111795 64.5596244111795 64.5596244111795\n",
      "31.353669974343312 31.353669974343312 31.353669974343312\n",
      "17.73469384349871 17.73469384349871 17.73469384349871\n",
      "44.49985076784456 44.49985076784456 44.49985076784456\n",
      "55.46061634157089 55.46061634157089 55.46061634157089\n",
      "61.118360480539636 61.118360480539636 61.118360480539636\n",
      "23.317198840293543 23.317198840293543 23.317198840293543\n",
      "46.850137354861715 46.850137354861715 46.850137354861715\n",
      "14.769513375067945 14.769513375067945 14.769513375067945\n",
      "58.34485139339428 58.34485139339428 58.34485139339428\n",
      "78.43916155776418 78.43916155776418 78.43916155776418\n",
      "14.537855038206997 14.537855038206997 14.537855038206997\n",
      "26.257474439515708 26.257474439515708 26.257474439515708\n",
      "32.43724284131331 32.43724284131331 32.43724284131331\n",
      "96.0458991170853 96.0458991170853 96.0458991170853\n",
      "48.66980326207158 48.66980326207158 48.66980326207158\n",
      "25.690495904404393 25.690495904404393 25.690495904404393\n",
      "145.60692816881448 145.60692816881448 145.60692816881448\n",
      "96.21123170678459 96.21123170678459 96.21123170678459\n",
      "59.008964538652606 59.008964538652606 59.008964538652606\n",
      "33.45919669204977 33.45919669204977 33.45919669204977\n",
      "15.219944411604848 15.219944411604848 15.219944411604848\n",
      "5.525983645005802 5.525983645005802 5.525983645005802\n",
      "164.63157437311799 164.63157437311799 104.12214468938146\n"
     ]
    }
   ],
   "source": [
    "Color_Simulation()"
   ]
  },
  {
   "cell_type": "code",
   "execution_count": 8,
   "metadata": {
    "ExecuteTime": {
     "end_time": "2019-09-23T10:50:33.473547Z",
     "start_time": "2019-09-23T10:50:31.459397Z"
    }
   },
   "outputs": [
    {
     "data": {
      "text/plain": [
       "[<matplotlib.lines.Line2D at 0x1cb9f0ec908>]"
      ]
     },
     "execution_count": 8,
     "metadata": {},
     "output_type": "execute_result"
    },
    {
     "data": {
      "image/png": "[encoded data removed]",
      "text/plain": [
       "<Figure size 432x288 with 1 Axes>"
      ]
     },
     "metadata": {
      "needs_background": "light"
     },
     "output_type": "display_data"
    }
   ],
   "source": [
    "plt.plot(source[:,1])"
   ]
  },
  {
   "cell_type": "code",
   "execution_count": null,
   "metadata": {},
   "outputs": [],
   "source": []
  }
 ],
 "metadata": {
  "kernelspec": {
   "display_name": "Python 3",
   "language": "python",
   "name": "python3"
  },
  "language_info": {
   "codemirror_mode": {
    "name": "ipython",
    "version": 3
   },
   "file_extension": ".py",
   "mimetype": "text/x-python",
   "name": "python",
   "nbconvert_exporter": "python",
   "pygments_lexer": "ipython3",
   "version": "3.6.4"
  },
  "latex_envs": {
   "LaTeX_envs_menu_present": true,
   "autoclose": false,
   "autocomplete": true,
   "bibliofile": "biblio.bib",
   "cite_by": "apalike",
   "current_citInitial": 1,
   "eqLabelWithNumbers": true,
   "eqNumInitial": 1,
   "hotkeys": {
    "equation": "Ctrl-E",
    "itemize": "Ctrl-I"
   },
   "labels_anchors": false,
   "latex_user_defs": false,
   "report_style_numbering": false,
   "user_envs_cfg": false
  },
  "toc": {
   "base_numbering": 1,
   "nav_menu": {},
   "number_sections": true,
   "sideBar": true,
   "skip_h1_title": false,
   "title_cell": "Table of Contents",
   "title_sidebar": "Contents",
   "toc_cell": false,
   "toc_position": {},
   "toc_section_display": true,
   "toc_window_display": false
  },
  "varInspector": {
   "cols": {
    "lenName": 16,
    "lenType": 16,
    "lenVar": 40
   },
   "kernels_config": {
    "python": {
     "delete_cmd_postfix": "",
     "delete_cmd_prefix": "del ",
     "library": "var_list.py",
     "varRefreshCmd": "print(var_dic_list())"
    },
    "r": {
     "delete_cmd_postfix": ") ",
     "delete_cmd_prefix": "rm(",
     "library": "var_list.r",
     "varRefreshCmd": "cat(var_dic_list()) "
    }
   },
   "position": {
    "height": "584.86px",
    "left": "1122.57px",
    "right": "20px",
    "top": "111px",
    "width": "350px"
   },
   "types_to_exclude": [
    "module",
    "function",
    "builtin_function_or_method",
    "instance",
    "_Feature"
   ],
   "window_display": true
  }
 },
 "nbformat": 4,
 "nbformat_minor": 2
}
