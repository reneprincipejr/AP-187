{
 "cells": [
  {
   "cell_type": "code",
   "execution_count": 1,
   "metadata": {
    "ExecuteTime": {
     "end_time": "2019-11-10T08:08:27.963314Z",
     "start_time": "2019-11-10T08:08:19.886068Z"
    }
   },
   "outputs": [],
   "source": [
    "import numpy as np\n",
    "import matplotlib.pyplot as plt\n",
    "from scipy.signal import savgol_filter\n",
    "%matplotlib inline"
   ]
  },
  {
   "cell_type": "code",
   "execution_count": 2,
   "metadata": {
    "ExecuteTime": {
     "end_time": "2019-11-10T08:08:27.999218Z",
     "start_time": "2019-11-10T08:08:27.972289Z"
    }
   },
   "outputs": [],
   "source": [
    "wavelength = np.arange(400,700,0.5)\n",
    "\n",
    "'Loading Macbeth dataset'\n",
    "\n",
    "macbeth = np.loadtxt(\"macbeth.txt\")\n",
    "macbeth_wav, macbeth_ref =  macbeth[4:64,0], macbeth[4:64,1:]\n",
    "macbeth_r = np.zeros(shape=[len(wavelength),24])\n",
    "\n",
    "\n",
    "for i in range(1,25):\n",
    "    macbeth_r[:,i-1] = np.interp(wavelength, macbeth_wav, macbeth_ref[:,i-1])"
   ]
  },
  {
   "cell_type": "code",
   "execution_count": 3,
   "metadata": {
    "ExecuteTime": {
     "end_time": "2019-11-10T08:08:28.109208Z",
     "start_time": "2019-11-10T08:08:28.025147Z"
    }
   },
   "outputs": [],
   "source": [
    "std_source = np.loadtxt(\"standard_illuminants.txt\")\n",
    "std_wav, std_s = std_source[:,0], std_source[:,1:]\n",
    "\n",
    "source = np.zeros(shape=[len(wavelength),6])\n",
    "\n",
    "for i in range(6):\n",
    "    s = np.interp(wavelength, std_wav, std_s[:,i])\n",
    "    source[:,i] = s/s.max()"
   ]
  },
  {
   "cell_type": "code",
   "execution_count": 4,
   "metadata": {
    "ExecuteTime": {
     "end_time": "2019-11-10T08:08:28.223582Z",
     "start_time": "2019-11-10T08:08:28.132039Z"
    }
   },
   "outputs": [],
   "source": [
    "cie = np.loadtxt(\"CIE1964.txt\")\n",
    "wav, x_, y_, z_ = cie[:,0], cie[:,1], cie[:,2], cie[:,3]\n",
    "\n",
    "x_ = np.interp(wavelength, wav, x_)\n",
    "x_ = x_/x_.max()\n",
    "\n",
    "y_ = np.interp(wavelength, wav, y_)\n",
    "y_ = y_/y_.max()\n",
    "\n",
    "z_ = np.interp(wavelength, wav, z_)\n",
    "z_ = z_/z_.max()"
   ]
  },
  {
   "cell_type": "code",
   "execution_count": 5,
   "metadata": {
    "ExecuteTime": {
     "end_time": "2019-11-10T08:08:28.353209Z",
     "start_time": "2019-11-10T08:08:28.275418Z"
    }
   },
   "outputs": [],
   "source": [
    "flourescent = np.loadtxt(\"flourescent.txt\")\n",
    "\n",
    "flourescent = np.interp(wavelength, flourescent[:,0], flourescent[:,1])\n",
    "flourescent = flourescent/flourescent.max()"
   ]
  },
  {
   "cell_type": "code",
   "execution_count": 6,
   "metadata": {
    "ExecuteTime": {
     "end_time": "2019-11-10T08:08:33.817045Z",
     "start_time": "2019-11-10T08:08:33.812057Z"
    }
   },
   "outputs": [
    {
     "data": {
      "text/plain": [
       "(600,)"
      ]
     },
     "execution_count": 6,
     "metadata": {},
     "output_type": "execute_result"
    }
   ],
   "source": [
    "z_.shape"
   ]
  },
  {
   "cell_type": "code",
   "execution_count": 7,
   "metadata": {
    "ExecuteTime": {
     "end_time": "2019-11-10T08:08:34.343415Z",
     "start_time": "2019-11-10T08:08:34.338456Z"
    }
   },
   "outputs": [],
   "source": [
    "def f(t):\n",
    "    if t > (6/29)**3:\n",
    "        return t**(1/3)\n",
    "    else:\n",
    "        return (((29/6)**2)/3)*t + 4/29\n"
   ]
  },
  {
   "cell_type": "code",
   "execution_count": 8,
   "metadata": {
    "ExecuteTime": {
     "end_time": "2019-11-10T08:08:35.818461Z",
     "start_time": "2019-11-10T08:08:34.890521Z"
    }
   },
   "outputs": [
    {
     "data": {
      "image/png": "[encoded data removed]",
      "text/plain": [
       "<Figure size 432x288 with 1 Axes>"
      ]
     },
     "metadata": {
      "needs_background": "light"
     },
     "output_type": "display_data"
    }
   ],
   "source": [
    "plt.plot(wavelength, x_, 'r')\n",
    "plt.plot(wavelength, y_, 'g')\n",
    "plt.plot(wavelength, z_, 'b')\n",
    "plt.show()"
   ]
  },
  {
   "cell_type": "code",
   "execution_count": 26,
   "metadata": {
    "ExecuteTime": {
     "end_time": "2019-11-10T08:19:37.875033Z",
     "start_time": "2019-11-10T08:19:37.868072Z"
    }
   },
   "outputs": [],
   "source": [
    "def CIELab(source):\n",
    "    \n",
    "    L,a,b = [],[],[]\n",
    "        \n",
    "    X_n = np.trapz(source*x_)\n",
    "    Y_n = np.trapz(source*y_)\n",
    "    Z_n = np.trapz(source*z_)\n",
    "\n",
    "    for i in range(0,24):\n",
    "        X = np.trapz(macbeth_r[:,i]*source*x_)\n",
    "        Y = np.trapz(macbeth_r[:,i]*source*y_)\n",
    "        Z = np.trapz(macbeth_r[:,i]*source*z_)\n",
    "        \n",
    "        L.append(116*f(Y/Y_n)-16)\n",
    "        a.append(500*(f(X/X_n)-f(Y/Y_n)))\n",
    "        b.append(200*(f(Y/Y_n)-f(Z/Z_n)))\n",
    "        \n",
    "    return [L,a,b]\n"
   ]
  },
  {
   "cell_type": "code",
   "execution_count": 27,
   "metadata": {
    "ExecuteTime": {
     "end_time": "2019-11-10T08:19:38.598965Z",
     "start_time": "2019-11-10T08:19:38.593978Z"
    }
   },
   "outputs": [
    {
     "data": {
      "text/plain": [
       "[[36.77794425235589,\n",
       "  65.79867685647612,\n",
       "  51.62253903261005,\n",
       "  42.04135324535195,\n",
       "  57.46914025651573,\n",
       "  71.69981173617104,\n",
       "  59.548201641962805,\n",
       "  42.73485556183453,\n",
       "  50.47537228399226,\n",
       "  31.252324338726034,\n",
       "  70.63927610196914,\n",
       "  69.92169066417772,\n",
       "  32.601807121168314,\n",
       "  54.79527021635903,\n",
       "  40.25600891465492,\n",
       "  79.90655240921112,\n",
       "  51.353886512539276,\n",
       "  53.44741637890722,\n",
       "  95.45476775542589,\n",
       "  80.94331630603271,\n",
       "  66.37579867278629,\n",
       "  52.17813908369324,\n",
       "  36.48726344134476,\n",
       "  21.438325903278226],\n",
       " [13.885174147737905,\n",
       "  13.395512702089107,\n",
       "  -3.806120376678934,\n",
       "  -12.271444782829654,\n",
       "  6.607366863199015,\n",
       "  -30.111546800330014,\n",
       "  33.715510692534146,\n",
       "  7.462528288159687,\n",
       "  42.347051364725495,\n",
       "  20.157594169158273,\n",
       "  -19.610956406166558,\n",
       "  20.167879833730527,\n",
       "  13.164427978074489,\n",
       "  -33.9976549400709,\n",
       "  48.46401613007714,\n",
       "  4.400196445909277,\n",
       "  42.76428578611557,\n",
       "  -30.15384052819653,\n",
       "  -0.46182161181784753,\n",
       "  0.17097612586691735,\n",
       "  0.10355144598500621,\n",
       "  0.09946770889834866,\n",
       "  -0.1541241715576347,\n",
       "  -0.08405640461542352],\n",
       " [-21.484237272213424,\n",
       "  -29.511607736847843,\n",
       "  -17.462996978014477,\n",
       "  -10.792611577566035,\n",
       "  -23.978840559332415,\n",
       "  -10.916139228530497,\n",
       "  -37.202592722970685,\n",
       "  -20.185869495716258,\n",
       "  -38.64391162504097,\n",
       "  -22.835290037704915,\n",
       "  -15.507693814277745,\n",
       "  -33.840389130123796,\n",
       "  -19.960382438192916,\n",
       "  -4.296374970568118,\n",
       "  -38.58728966441386,\n",
       "  -29.333094095644707,\n",
       "  -39.08825336401307,\n",
       "  -5.70415675776188,\n",
       "  -31.49042058732343,\n",
       "  -27.657218215807777,\n",
       "  -23.481764945815687,\n",
       "  -19.44104219738756,\n",
       "  -14.859272964008785,\n",
       "  -10.61094088235215]]"
      ]
     },
     "execution_count": 27,
     "metadata": {},
     "output_type": "execute_result"
    }
   ],
   "source": [
    "LAB_1"
   ]
  },
  {
   "cell_type": "code",
   "execution_count": 28,
   "metadata": {
    "ExecuteTime": {
     "end_time": "2019-11-10T08:19:39.990013Z",
     "start_time": "2019-11-10T08:19:39.819724Z"
    }
   },
   "outputs": [
    {
     "data": {
      "image/png": "[encoded data removed]",
      "text/plain": [
       "<Figure size 432x288 with 1 Axes>"
      ]
     },
     "metadata": {
      "needs_background": "light"
     },
     "output_type": "display_data"
    },
    {
     "data": {
      "image/png": "[encoded data removed]",
      "text/plain": [
       "<Figure size 432x288 with 1 Axes>"
      ]
     },
     "metadata": {
      "needs_background": "light"
     },
     "output_type": "display_data"
    }
   ],
   "source": [
    "LAB_1 = CIELab(flourescent)\n",
    "plt.xlim(-50,50)\n",
    "plt.ylim(-50,50)\n",
    "plt.axhline(0)\n",
    "plt.axvline(0)\n",
    "plt.plot(LAB_1[1],LAB_1[2], 'ro')\n",
    "plt.show()\n",
    "\n",
    "LAB_1 = CIELab(source[:,1])\n",
    "plt.xlim(-50,50)\n",
    "plt.ylim(-50,50)\n",
    "plt.axhline(0)\n",
    "plt.axvline(0)\n",
    "plt.plot(LAB_1[1],LAB_1[2], 'ro')\n",
    "plt.show()"
   ]
  },
  {
   "cell_type": "code",
   "execution_count": 29,
   "metadata": {
    "ExecuteTime": {
     "end_time": "2019-11-10T08:19:43.532934Z",
     "start_time": "2019-11-10T08:19:43.434201Z"
    }
   },
   "outputs": [
    {
     "data": {
      "text/plain": [
       "[<matplotlib.lines.Line2D at 0x1f1880bef60>]"
      ]
     },
     "execution_count": 29,
     "metadata": {},
     "output_type": "execute_result"
    },
    {
     "data": {
      "image/png": "[encoded data removed]",
      "text/plain": [
       "<Figure size 432x288 with 1 Axes>"
      ]
     },
     "metadata": {
      "needs_background": "light"
     },
     "output_type": "display_data"
    }
   ],
   "source": [
    "plt.plot(np.arctan2(LAB_1[1],LAB_1[2]), 'ro')"
   ]
  },
  {
   "cell_type": "code",
   "execution_count": 72,
   "metadata": {
    "ExecuteTime": {
     "end_time": "2019-09-23T11:43:20.479383Z",
     "start_time": "2019-09-23T11:43:20.470676Z"
    }
   },
   "outputs": [],
   "source": [
    "LAB_2 = CIELab(source[:,1])"
   ]
  },
  {
   "cell_type": "code",
   "execution_count": 1,
   "metadata": {
    "ExecuteTime": {
     "end_time": "2019-10-09T05:49:49.077378Z",
     "start_time": "2019-10-09T05:49:49.072419Z"
    }
   },
   "outputs": [],
   "source": [
    "def del_E_76(LAB_1,LAB_2):\n",
    "    d_e = np.sqrt((LAB_1[0][i]-LAB_2[0][i])**2 + (LAB_1[1][i]-LAB_2[1][i])**2 + (LAB_1[2][i]-LAB_2[2][i])**2)\n",
    "    dE.append(d_e)\n",
    "    return dE"
   ]
  },
  {
   "cell_type": "code",
   "execution_count": 80,
   "metadata": {
    "ExecuteTime": {
     "end_time": "2019-09-23T12:21:58.414290Z",
     "start_time": "2019-09-23T12:21:58.405244Z"
    }
   },
   "outputs": [
    {
     "data": {
      "text/plain": [
       "[3.7559594199454858,\n",
       " 4.011583728373291,\n",
       " 4.299684209854271,\n",
       " 1.810834806038436,\n",
       " 2.230358668196502,\n",
       " 6.395297175712435,\n",
       " 8.184141075029412,\n",
       " 4.110447298920064,\n",
       " 8.381869022912682,\n",
       " 2.578482540820508,\n",
       " 2.821730567848807,\n",
       " 7.150520392530999,\n",
       " 4.30490226565901,\n",
       " 5.500209818563764,\n",
       " 12.859146864671304,\n",
       " 4.7680904360517316,\n",
       " 8.037299042427481,\n",
       " 7.699935096216974,\n",
       " 2.938395372065214,\n",
       " 2.5646552503560582,\n",
       " 2.201331784129432,\n",
       " 1.825811238454692,\n",
       " 1.4495788652865556,\n",
       " 1.018300266350031]"
      ]
     },
     "execution_count": 80,
     "metadata": {},
     "output_type": "execute_result"
    }
   ],
   "source": [
    "del_E_76(LAB_1,LAB_2)"
   ]
  },
  {
   "cell_type": "code",
   "execution_count": 81,
   "metadata": {
    "ExecuteTime": {
     "end_time": "2019-09-23T12:25:42.824405Z",
     "start_time": "2019-09-23T12:25:42.803978Z"
    }
   },
   "outputs": [],
   "source": [
    "def del_E_CH(LAB_1,LAB_2):\n",
    "    \n",
    "    C1 = np.sqrt((LAB_1[1][i])**2+(LAB_1[2][i])**2)\n",
    "    C2 = np.sqrt((LAB_2[1][i])**2+(LAB_2[2][i])**2)\n",
    "    h1 = np.arctan((LAB_1[2][i])/(LAB_1[1][i]))\n",
    "    h2 = np.arctan((LAB_2[2][i])/(LAB_2[1][i]))\n",
    "    d_e = np.sqrt((LAB_1[0][i]-LAB_2[0][i])**2 + (C2-C1)**2 + (h2-h1)**2)\n",
    "    return d_e"
   ]
  },
  {
   "cell_type": "code",
   "execution_count": 82,
   "metadata": {
    "ExecuteTime": {
     "end_time": "2019-09-23T12:25:49.236349Z",
     "start_time": "2019-09-23T12:25:49.204116Z"
    }
   },
   "outputs": [
    {
     "data": {
      "text/plain": [
       "[2.1194618271877994,\n",
       " 1.3417906884262323,\n",
       " 2.691687359717311,\n",
       " 0.9353818582449279,\n",
       " 2.2298372679955354,\n",
       " 2.4909894208499037,\n",
       " 6.150792501651027,\n",
       " 3.736660666508547,\n",
       " 7.380422362181851,\n",
       " 1.8428447288138243,\n",
       " 1.5731952528645916,\n",
       " 3.823079642356521,\n",
       " 4.126457090296458,\n",
       " 3.299477599014361,\n",
       " 12.223695443419318,\n",
       " 3.1249520899550376,\n",
       " 7.180241416701543,\n",
       " 5.11013995183039,\n",
       " 2.936250326519534,\n",
       " 2.5643634712337646,\n",
       " 2.200108980446658,\n",
       " 1.824600073429348,\n",
       " 1.4415827612548406,\n",
       " 3.2931807352852767]"
      ]
     },
     "execution_count": 82,
     "metadata": {},
     "output_type": "execute_result"
    }
   ],
   "source": [
    "del_E_CH(LAB_1,LAB_2)"
   ]
  },
  {
   "cell_type": "code",
   "execution_count": null,
   "metadata": {},
   "outputs": [],
   "source": []
  }
 ],
 "metadata": {
  "kernelspec": {
   "display_name": "Python 3",
   "language": "python",
   "name": "python3"
  },
  "language_info": {
   "codemirror_mode": {
    "name": "ipython",
    "version": 3
   },
   "file_extension": ".py",
   "mimetype": "text/x-python",
   "name": "python",
   "nbconvert_exporter": "python",
   "pygments_lexer": "ipython3",
   "version": "3.7.3"
  },
  "latex_envs": {
   "LaTeX_envs_menu_present": true,
   "autoclose": false,
   "autocomplete": true,
   "bibliofile": "biblio.bib",
   "cite_by": "apalike",
   "current_citInitial": 1,
   "eqLabelWithNumbers": true,
   "eqNumInitial": 1,
   "hotkeys": {
    "equation": "Ctrl-E",
    "itemize": "Ctrl-I"
   },
   "labels_anchors": false,
   "latex_user_defs": false,
   "report_style_numbering": false,
   "user_envs_cfg": false
  },
  "toc": {
   "base_numbering": 1,
   "nav_menu": {},
   "number_sections": true,
   "sideBar": true,
   "skip_h1_title": false,
   "title_cell": "Table of Contents",
   "title_sidebar": "Contents",
   "toc_cell": false,
   "toc_position": {},
   "toc_section_display": true,
   "toc_window_display": false
  },
  "varInspector": {
   "cols": {
    "lenName": 16,
    "lenType": 16,
    "lenVar": 40
   },
   "kernels_config": {
    "python": {
     "delete_cmd_postfix": "",
     "delete_cmd_prefix": "del ",
     "library": "var_list.py",
     "varRefreshCmd": "print(var_dic_list())"
    },
    "r": {
     "delete_cmd_postfix": ") ",
     "delete_cmd_prefix": "rm(",
     "library": "var_list.r",
     "varRefreshCmd": "cat(var_dic_list()) "
    }
   },
   "oldHeight": 562.86,
   "position": {
    "height": "40px",
    "left": "1122.57px",
    "right": "20px",
    "top": "111px",
    "width": "350px"
   },
   "types_to_exclude": [
    "module",
    "function",
    "builtin_function_or_method",
    "instance",
    "_Feature"
   ],
   "varInspector_section_display": "none",
   "window_display": true
  }
 },
 "nbformat": 4,
 "nbformat_minor": 2
}
